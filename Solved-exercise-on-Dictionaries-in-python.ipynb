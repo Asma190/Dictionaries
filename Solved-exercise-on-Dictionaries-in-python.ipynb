{
 "cells": [
  {
   "cell_type": "code",
   "execution_count": null,
   "id": "8b3912c8-ebd8-44be-88c0-64f48482d51b",
   "metadata": {},
   "outputs": [],
   "source": [
    "#AsmaRauf\n",
    "#FA24-BBD-019"
   ]
  },
  {
   "cell_type": "code",
   "execution_count": 1,
   "id": "5c8b235f-9fbc-493a-abe8-f1d2605a8335",
   "metadata": {},
   "outputs": [
    {
     "name": "stdout",
     "output_type": "stream",
     "text": [
      "{'name': 'Asma', 'age': '18', 'city': 'Lahore', 'hobbies': 'dancing'}\n"
     ]
    }
   ],
   "source": [
    "#Create a dictionary to store information about a person (name, age, city, hobbies)\n",
    "\n",
    "info = {'name':'Asma','age':'18','city':'Lahore','hobbies':'dancing'}\n",
    "print(info)"
   ]
  },
  {
   "cell_type": "code",
   "execution_count": 3,
   "id": "7922f265-d525-401d-84d5-d5c71039a97b",
   "metadata": {},
   "outputs": [
    {
     "name": "stdout",
     "output_type": "stream",
     "text": [
      "{'hi!': 1, \"i'm\": 1, 'asma,': 1, 'and': 1, 'my': 1, 'favourite': 1, 'thing': 1, 'to': 1, 'eat': 1, 'is': 1, 'mango': 1}\n"
     ]
    }
   ],
   "source": [
    "#Write a program to count the frequency of words in a given text.\n",
    "\n",
    "text = \"Hi! I'm Asma, and my favourite thing to eat is mango\"\n",
    "words = text.split()\n",
    "word_count = {}\n",
    "\n",
    "for word in words:\n",
    "    word = word.lower()\n",
    "    if word in word_count:\n",
    "        word_count[word] += 1\n",
    "    else:\n",
    "        word_count[word] = 1\n",
    "\n",
    "print(word_count)"
   ]
  },
  {
   "cell_type": "code",
   "execution_count": 5,
   "id": "9f526cbb-0f95-451e-9a3a-9f4b4f8ab976",
   "metadata": {},
   "outputs": [
    {
     "name": "stdout",
     "output_type": "stream",
     "text": [
      "book : 352\n",
      "geometry box : 757\n",
      "pen : 47\n"
     ]
    }
   ],
   "source": [
    "#Implement a simple inventory system using dictionaries.\n",
    "\n",
    "inventory = {\n",
    "    'book' : 400,\n",
    "    'geometry box' : 380,\n",
    "    'pen' : 47\n",
    "}\n",
    "\n",
    "inventory['geometry box'] += 377\n",
    "inventory['book'] -= 48\n",
    "\n",
    "for items, quantity in inventory.items():\n",
    "    print(f\"{items} : {quantity}\")\n"
   ]
  },
  {
   "cell_type": "code",
   "execution_count": 19,
   "id": "7e4d3c3e-f252-4f7d-bc56-749bcc873a96",
   "metadata": {},
   "outputs": [
    {
     "name": "stdout",
     "output_type": "stream",
     "text": [
      "The most popular category is 'Fruits' with 4 orders.\n"
     ]
    }
   ],
   "source": [
    "#Analyze a dataset of customer orders to find the most popular product category.\n",
    "orders = [\"Fruits\", \"Fruits\", \"Vegetables\", \"Fruits\", \"Vegetables\", \"Dairy\", \"Dairy\", \"Fruits\"]\n",
    "\n",
    "category_counts = {}\n",
    "for category in orders:\n",
    "    if category in category_counts:\n",
    "        category_counts[category] += 1\n",
    "    else:\n",
    "        category_counts[category] = 1\n",
    "\n",
    "# Find the most popular category\n",
    "most_popular = max(category_counts, key=category_counts.get)\n",
    "print(f\"The most popular category is '{most_popular}' with {category_counts[most_popular]} orders.\")"
   ]
  },
  {
   "cell_type": "code",
   "execution_count": 7,
   "id": "3bf08c74-fdac-43a5-a6a3-77ab74e3a96b",
   "metadata": {},
   "outputs": [
    {
     "name": "stdout",
     "output_type": "stream",
     "text": [
      "Average grade is: 23.8\n"
     ]
    }
   ],
   "source": [
    "#Create a dictionary to store student grades and calculate the average grade.\n",
    "\n",
    "grades = {\n",
    "    'ali' : 25,\n",
    "    'alyna' : 28,\n",
    "    'bilal' : 24,\n",
    "    'maira' : 20,\n",
    "    'shehreen' : 22\n",
    "}\n",
    "\n",
    "average_grade = sum(grades.values()) / len(grades)\n",
    "print(f\"Average grade is: {average_grade}\")"
   ]
  },
  {
   "cell_type": "code",
   "execution_count": 9,
   "id": "3632f8a9-25ae-4d3c-83d0-8cb50fb9a9ae",
   "metadata": {},
   "outputs": [
    {
     "name": "stdout",
     "output_type": "stream",
     "text": [
      "Total Inventory Value: $ 24500\n",
      "\n",
      "Low Stock Report:\n",
      "computer: 2 in stock, Price: $3000\n"
     ]
    }
   ],
   "source": [
    "#Create a dictionary to store product information: name, quantity, price. Implement functions to:\n",
    "#Add new products\n",
    "#Update product quantities\n",
    "#Calculate total inventory value\n",
    "#Generate a report of low-stock items\n",
    "\n",
    "inventory = {}\n",
    "inventory[\"Laptop\"] = {\"quantity\": 10, \"price\": 1000}\n",
    "inventory[\"phone\"] = {\"quantity\": 3, \"price\": 500}\n",
    "inventory[\"computer\"] = {\"quantity\": 2, \"price\": 3000}\n",
    "\n",
    "inventory[\"phone\"][\"quantity\"] = 17\n",
    "\n",
    "total_value = 0\n",
    "for product in inventory:\n",
    "    total_value += inventory[product][\"quantity\"] * inventory[product][\"price\"]\n",
    "\n",
    "print(\"Total Inventory Value: $\", total_value)\n",
    "\n",
    "count = 5\n",
    "print(\"\\nLow Stock Report:\")\n",
    "for product in inventory:\n",
    "    if inventory[product][\"quantity\"] <= count:\n",
    "        print(f\"{product}: {inventory[product]['quantity']} in stock, Price: ${inventory[product]['price']}\")"
   ]
  },
  {
   "cell_type": "code",
   "execution_count": 11,
   "id": "34e885f0-39d3-4797-9855-7dc5ffbaaad7",
   "metadata": {},
   "outputs": [
    {
     "name": "stdout",
     "output_type": "stream",
     "text": [
      "Average Grades:\n",
      "Alyna: 69.33\n",
      "Maira: 71.67\n",
      "Shehreen: 74.33\n",
      "\n",
      "Math - Highest grade: Alyna with 90\n",
      "Math - Lowest grade: Maira with 78\n",
      "\n",
      "Students sorted by average grades:\n",
      "Shehreen: 74.33\n",
      "Maira: 71.67\n",
      "Alyna: 69.33\n"
     ]
    }
   ],
   "source": [
    "#Create a dictionary to store student information: name, grades for different subjects.\n",
    "#Calculate the average grade for each student.\n",
    "#Find the highest and lowest grades in a specific subject.\n",
    "#Sort students by their average grades.\n",
    "\n",
    "students = {\n",
    "    \"Alyna\": {\"Math\": 90, \"English\": 77, \"Computer\": 41},\n",
    "    \"Maira\": {\"Math\": 78, \"English\": 87, \"Computer\": 50},\n",
    "    \"Shehreen\": {\"Math\": 85, \"English\": 90, \"Computer\": 48},\n",
    "}\n",
    "\n",
    "average_grades = {}\n",
    "for student in students:\n",
    "    total = sum(students[student].values())  \n",
    "    count = len(students[student])  \n",
    "    average_grades[student] = total / count \n",
    "\n",
    "print(\"Average Grades:\")\n",
    "for student in average_grades:\n",
    "    print(f\"{student}: {average_grades[student]:.2f}\")\n",
    "\n",
    "subject = \"Math\"\n",
    "subject_grades = {}\n",
    "\n",
    "for student in students:\n",
    "    subject_grades[student] = students[student][subject]\n",
    "\n",
    "highest_grade_student = max(subject_grades, key=subject_grades.get)\n",
    "lowest_grade_student = min(subject_grades, key=subject_grades.get)\n",
    "\n",
    "print(f\"\\n{subject} - Highest grade: {highest_grade_student} with {subject_grades[highest_grade_student]}\")\n",
    "print(f\"{subject} - Lowest grade: {lowest_grade_student} with {subject_grades[lowest_grade_student]}\")\n",
    "\n",
    "\n",
    "sorted_students = sorted(average_grades.items(), key=lambda x: x[1], reverse=True)\n",
    "\n",
    "\n",
    "print(\"\\nStudents sorted by average grades:\")\n",
    "for student, avg_grade in sorted_students:\n",
    "    print(f\"{student}: {avg_grade:.2f}\")"
   ]
  },
  {
   "cell_type": "code",
   "execution_count": 13,
   "id": "7b83df71-8a9a-43a8-82ce-e8c7b6e3c5d6",
   "metadata": {},
   "outputs": [
    {
     "name": "stdout",
     "output_type": "stream",
     "text": [
      "Cart: {1: 1, 2: 1}\n",
      "Total: 1606.5\n"
     ]
    }
   ],
   "source": [
    "products = {\n",
    "    1: {\"name\": \"computer\", \"price\": 1000, \"quantity\": 10},\n",
    "    2: {\"name\": \"laptop\", \"price\": 700, \"quantity\": 20},\n",
    "    3: {\"name\": \"phone\", \"price\": 300, \"quantity\": 15}\n",
    "}\n",
    "\n",
    "cart = {}\n",
    "\n",
    "product_id = 1\n",
    "quantity = 2\n",
    "if product_id in products and products[product_id][\"quantity\"] >= quantity:\n",
    "    if product_id in cart:\n",
    "        cart[product_id] += quantity\n",
    "    else:\n",
    "        cart[product_id] = quantity\n",
    "    products[product_id][\"quantity\"] -= quantity\n",
    "\n",
    "product_id = 2\n",
    "quantity = 1\n",
    "if product_id in products and products[product_id][\"quantity\"] >= quantity:\n",
    "    if product_id in cart:\n",
    "        cart[product_id] += quantity\n",
    "    else:\n",
    "        cart[product_id] = quantity\n",
    "    products[product_id][\"quantity\"] -= quantity\n",
    "\n",
    "product_id = 1\n",
    "quantity = 1\n",
    "if product_id in cart and cart[product_id] >= quantity:\n",
    "    cart[product_id] -= quantity\n",
    "    products[product_id][\"quantity\"] += quantity\n",
    "    if cart[product_id] == 0:\n",
    "        del cart[product_id]\n",
    "\n",
    "total = sum(products[pid][\"price\"] * qty for pid, qty in cart.items())\n",
    "discount = 10\n",
    "tax = 5\n",
    "total -= total * (discount / 100)\n",
    "total += total * (tax / 100)\n",
    "\n",
    "print(\"Cart:\", cart)\n",
    "print(\"Total:\", total)"
   ]
  },
  {
   "cell_type": "code",
   "execution_count": null,
   "id": "58e8f804-112a-4cc1-a8d1-a5ec936171b2",
   "metadata": {},
   "outputs": [],
   "source": []
  }
 ],
 "metadata": {
  "kernelspec": {
   "display_name": "Python 3 (ipykernel)",
   "language": "python",
   "name": "python3"
  },
  "language_info": {
   "codemirror_mode": {
    "name": "ipython",
    "version": 3
   },
   "file_extension": ".py",
   "mimetype": "text/x-python",
   "name": "python",
   "nbconvert_exporter": "python",
   "pygments_lexer": "ipython3",
   "version": "3.12.4"
  }
 },
 "nbformat": 4,
 "nbformat_minor": 5
}
